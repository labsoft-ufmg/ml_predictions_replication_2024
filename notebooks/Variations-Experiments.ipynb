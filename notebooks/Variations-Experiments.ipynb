{
 "cells": [
  {
   "cell_type": "code",
   "execution_count": 1,
   "metadata": {},
   "outputs": [],
   "source": [
    "## Import libs\n",
    "import pandas as pd\n",
    "import numpy as np\n",
    "from sklearn.pipeline import Pipeline\n",
    "from sklearn.preprocessing import MinMaxScaler, PolynomialFeatures\n",
    "from sklearn.feature_selection import SelectKBest, chi2, f_classif\n",
    "from sklearn.model_selection import train_test_split\n",
    "from sklearn.model_selection import RandomizedSearchCV, cross_val_score, KFold\n",
    "from sklearn.metrics import f1_score, roc_auc_score, classification_report\n",
    "from imblearn.over_sampling import SMOTE\n",
    "from imblearn.under_sampling import RandomUnderSampler\n",
    "from sklearn.base import TransformerMixin\n",
    "import csv\n",
    "from sklearn.exceptions import ConvergenceWarning\n",
    "import matplotlib.pyplot as plt\n",
    "\n",
    "from sklearn.tree import DecisionTreeClassifier\n",
    "from sklearn.ensemble import RandomForestClassifier, GradientBoostingClassifier"
   ]
  },
  {
   "cell_type": "code",
   "execution_count": 2,
   "metadata": {},
   "outputs": [],
   "source": [
    "SEED=42"
   ]
  },
  {
   "cell_type": "markdown",
   "metadata": {},
   "source": [
    "## God Class Evaluation"
   ]
  },
  {
   "cell_type": "code",
   "execution_count": 3,
   "metadata": {},
   "outputs": [
    {
     "data": {
      "text/html": [
       "<div>\n",
       "<style scoped>\n",
       "    .dataframe tbody tr th:only-of-type {\n",
       "        vertical-align: middle;\n",
       "    }\n",
       "\n",
       "    .dataframe tbody tr th {\n",
       "        vertical-align: top;\n",
       "    }\n",
       "\n",
       "    .dataframe thead th {\n",
       "        text-align: right;\n",
       "    }\n",
       "</style>\n",
       "<table border=\"1\" class=\"dataframe\">\n",
       "  <thead>\n",
       "    <tr style=\"text-align: right;\">\n",
       "      <th></th>\n",
       "      <th>dit</th>\n",
       "      <th>fanin</th>\n",
       "      <th>fanout</th>\n",
       "      <th>lcc</th>\n",
       "      <th>lcom*</th>\n",
       "      <th>loc</th>\n",
       "      <th>noc</th>\n",
       "      <th>rfc</th>\n",
       "      <th>icq</th>\n",
       "      <th>nof</th>\n",
       "      <th>nom</th>\n",
       "      <th>wmc</th>\n",
       "      <th>gc</th>\n",
       "    </tr>\n",
       "  </thead>\n",
       "  <tbody>\n",
       "    <tr>\n",
       "      <th>0</th>\n",
       "      <td>4</td>\n",
       "      <td>1</td>\n",
       "      <td>6</td>\n",
       "      <td>0.0</td>\n",
       "      <td>0.592593</td>\n",
       "      <td>39</td>\n",
       "      <td>0</td>\n",
       "      <td>12</td>\n",
       "      <td>0</td>\n",
       "      <td>3</td>\n",
       "      <td>9</td>\n",
       "      <td>10</td>\n",
       "      <td>0</td>\n",
       "    </tr>\n",
       "    <tr>\n",
       "      <th>1</th>\n",
       "      <td>4</td>\n",
       "      <td>2</td>\n",
       "      <td>7</td>\n",
       "      <td>0.0</td>\n",
       "      <td>0.000000</td>\n",
       "      <td>18</td>\n",
       "      <td>0</td>\n",
       "      <td>6</td>\n",
       "      <td>0</td>\n",
       "      <td>0</td>\n",
       "      <td>4</td>\n",
       "      <td>6</td>\n",
       "      <td>0</td>\n",
       "    </tr>\n",
       "    <tr>\n",
       "      <th>2</th>\n",
       "      <td>1</td>\n",
       "      <td>0</td>\n",
       "      <td>0</td>\n",
       "      <td>0.0</td>\n",
       "      <td>1.000000</td>\n",
       "      <td>56</td>\n",
       "      <td>0</td>\n",
       "      <td>0</td>\n",
       "      <td>3</td>\n",
       "      <td>4</td>\n",
       "      <td>4</td>\n",
       "      <td>4</td>\n",
       "      <td>0</td>\n",
       "    </tr>\n",
       "    <tr>\n",
       "      <th>3</th>\n",
       "      <td>1</td>\n",
       "      <td>1</td>\n",
       "      <td>0</td>\n",
       "      <td>0.0</td>\n",
       "      <td>0.000000</td>\n",
       "      <td>4</td>\n",
       "      <td>0</td>\n",
       "      <td>0</td>\n",
       "      <td>0</td>\n",
       "      <td>0</td>\n",
       "      <td>2</td>\n",
       "      <td>2</td>\n",
       "      <td>0</td>\n",
       "    </tr>\n",
       "    <tr>\n",
       "      <th>4</th>\n",
       "      <td>3</td>\n",
       "      <td>3</td>\n",
       "      <td>5</td>\n",
       "      <td>0.0</td>\n",
       "      <td>0.000000</td>\n",
       "      <td>16</td>\n",
       "      <td>0</td>\n",
       "      <td>7</td>\n",
       "      <td>0</td>\n",
       "      <td>0</td>\n",
       "      <td>4</td>\n",
       "      <td>4</td>\n",
       "      <td>0</td>\n",
       "    </tr>\n",
       "  </tbody>\n",
       "</table>\n",
       "</div>"
      ],
      "text/plain": [
       "   dit  fanin  fanout  lcc     lcom*  loc  noc  rfc  icq  nof  nom  wmc  gc\n",
       "0    4      1       6  0.0  0.592593   39    0   12    0    3    9   10   0\n",
       "1    4      2       7  0.0  0.000000   18    0    6    0    0    4    6   0\n",
       "2    1      0       0  0.0  1.000000   56    0    0    3    4    4    4   0\n",
       "3    1      1       0  0.0  0.000000    4    0    0    0    0    2    2   0\n",
       "4    3      3       5  0.0  0.000000   16    0    7    0    0    4    4   0"
      ]
     },
     "execution_count": 3,
     "metadata": {},
     "output_type": "execute_result"
    }
   ],
   "source": [
    "data = pd.read_csv('gc.csv', dtype={col: np.float32 for col in ['lcc', 'lcom*']})\n",
    "data.dropna(inplace=True)\n",
    "data.head()"
   ]
  },
  {
   "cell_type": "code",
   "execution_count": 4,
   "metadata": {},
   "outputs": [],
   "source": [
    "X = data.drop(['gc'], axis=1)\n",
    "y = data.gc"
   ]
  },
  {
   "cell_type": "code",
   "execution_count": 5,
   "metadata": {},
   "outputs": [],
   "source": [
    "X_train, X_test, y_train, y_test = train_test_split(X, y, train_size=0.8, random_state=SEED)"
   ]
  },
  {
   "cell_type": "markdown",
   "metadata": {},
   "source": [
    "### Decision Tree Evaluation"
   ]
  },
  {
   "cell_type": "markdown",
   "metadata": {},
   "source": [
    "#### Only original features"
   ]
  },
  {
   "cell_type": "code",
   "execution_count": 6,
   "metadata": {
    "scrolled": true
   },
   "outputs": [],
   "source": [
    "feature_names = ['dit','fanin','fanout','lcc','lcom*','loc','noc','rfc','icq','nof','nom','wmc']\n",
    "\n",
    "features = np.arange(1, 13, 1)\n",
    "\n",
    "f1 = []\n",
    "auc = []\n",
    "selected_features = []\n",
    "\n",
    "for num_features in features:\n",
    "    \n",
    "    pipeline = Pipeline([\n",
    "        ('minmaxscaler', MinMaxScaler()),\n",
    "        ('feature_selection', SelectKBest(score_func=f_classif, k=num_features)),\n",
    "        ('classifier', DecisionTreeClassifier(random_state=SEED))\n",
    "    ])\n",
    "    \n",
    "    hyperparameters ={\n",
    "        'classifier__criterion': ['gini', 'entropy'],\n",
    "        'classifier__max_depth': list(range(1, 11)),\n",
    "        'classifier__min_samples_split': list(range(2, 21)),\n",
    "        'classifier__min_samples_leaf': list(range(1, 11)),\n",
    "        'classifier__max_features': ['sqrt', 'log2', None],\n",
    "    }\n",
    "    \n",
    "    randomized_search = RandomizedSearchCV(pipeline,\n",
    "                                       param_distributions=hyperparameters,\n",
    "                                       cv=KFold(n_splits=10),\n",
    "                                       random_state=SEED)\n",
    "    \n",
    "    randomized_search.fit(X_train, y_train)\n",
    "    \n",
    "    best_model = randomized_search.best_estimator_\n",
    "    \n",
    "    selected = best_model.named_steps['feature_selection'].get_support()\n",
    "    \n",
    "    selected_feature_names = np.array(feature_names)[selected]\n",
    "    \n",
    "    selected_features.append(selected_feature_names)\n",
    "    \n",
    "    y_pred = best_model.predict(X_test)\n",
    "    \n",
    "    f1.append(f1_score(y_test, y_pred))\n",
    "    \n",
    "    auc.append(roc_auc_score(y_test, y_pred))"
   ]
  },
  {
   "cell_type": "code",
   "execution_count": 10,
   "metadata": {},
   "outputs": [
    {
     "data": {
      "image/png": "[encoded data removed]",
      "text/plain": [
       "<Figure size 640x480 with 1 Axes>"
      ]
     },
     "metadata": {},
     "output_type": "display_data"
    }
   ],
   "source": [
    "# Plotando o gráfico\n",
    "plt.plot(features, f1, label='F1')\n",
    "plt.plot(features, auc, label='AUC')\n",
    "\n",
    "# Configurações adicionais do gráfico\n",
    "plt.xlabel('Features')\n",
    "plt.ylabel('Score')\n",
    "plt.title('Features Variation')\n",
    "plt.legend()\n",
    "\n",
    "# Exibindo o gráfico\n",
    "plt.show()"
   ]
  },
  {
   "cell_type": "code",
   "execution_count": 17,
   "metadata": {},
   "outputs": [],
   "source": [
    "features_set = []\n",
    "for i, features in enumerate(selected_features):\n",
    "    features_set.append('|'.join(features))"
   ]
  },
  {
   "cell_type": "code",
   "execution_count": 18,
   "metadata": {},
   "outputs": [],
   "source": [
    "# Export results\n",
    "nome_arquivo = \"gc_fv.csv\"\n",
    "\n",
    "with open(nome_arquivo, \"w\", newline=\"\") as arquivo_csv:\n",
    "    writer = csv.writer(arquivo_csv)\n",
    "\n",
    "    writer.writerow([\"features\", \"f1\", \"auc\", \"set\"])\n",
    "\n",
    "    for i in range(len(features)):\n",
    "        writer.writerow([features[i], f1[i], auc[i], features_set[i]])"
   ]
  },
  {
   "cell_type": "markdown",
   "metadata": {},
   "source": [
    "#### Polynomial Features"
   ]
  },
  {
   "cell_type": "code",
   "execution_count": 28,
   "metadata": {},
   "outputs": [],
   "source": [
    "feature_names = ['dit','fanin','fanout','lcc','lcom*','loc','noc','rfc','icq','nof','nom','wmc']\n",
    "\n",
    "features = np.arange(1, 13, 1)\n",
    "\n",
    "f1 = []\n",
    "auc = []\n",
    "selected_features = []\n",
    "\n",
    "for num_features in features:\n",
    "    \n",
    "    pipeline = Pipeline([\n",
    "        ('minmaxscaler', MinMaxScaler()),\n",
    "        ('feature_selection', SelectKBest(score_func=f_classif, k=num_features)),\n",
    "        ('polynomial_features', PolynomialFeatures(degree=2)),\n",
    "        ('classifier', DecisionTreeClassifier(random_state=SEED))\n",
    "    ])\n",
    "    \n",
    "    hyperparameters ={\n",
    "        'classifier__criterion': ['gini', 'entropy'],\n",
    "        'classifier__max_depth': list(range(1, 11)),\n",
    "        'classifier__min_samples_split': list(range(2, 21)),\n",
    "        'classifier__min_samples_leaf': list(range(1, 11)),\n",
    "        'classifier__max_features': ['sqrt', 'log2', None],\n",
    "    }\n",
    "    \n",
    "    randomized_search = RandomizedSearchCV(pipeline,\n",
    "                                       param_distributions=hyperparameters,\n",
    "                                       cv=KFold(n_splits=10),\n",
    "                                       random_state=SEED)\n",
    "    \n",
    "    randomized_search.fit(X_train, y_train)\n",
    "    \n",
    "    best_model = randomized_search.best_estimator_\n",
    "    \n",
    "    selected = best_model.named_steps['feature_selection'].get_support()\n",
    "    \n",
    "    selected_feature_names = np.array(feature_names)[selected]\n",
    "    \n",
    "    selected_features.append(selected_feature_names)\n",
    "    \n",
    "    y_pred = best_model.predict(X_test)\n",
    "    \n",
    "    f1.append(f1_score(y_test, y_pred))\n",
    "    \n",
    "    auc.append(roc_auc_score(y_test, y_pred))"
   ]
  },
  {
   "cell_type": "code",
   "execution_count": 29,
   "metadata": {},
   "outputs": [
    {
     "data": {
      "image/png": "[encoded data removed]",
      "text/plain": [
       "<Figure size 640x480 with 1 Axes>"
      ]
     },
     "metadata": {},
     "output_type": "display_data"
    }
   ],
   "source": [
    "# Plotando o gráfico\n",
    "plt.plot(features, f1, label='F1')\n",
    "plt.plot(features, auc, label='AUC')\n",
    "\n",
    "# Configurações adicionais do gráfico\n",
    "plt.xlabel('Features')\n",
    "plt.ylabel('Score')\n",
    "plt.title('Features Variation')\n",
    "plt.legend()\n",
    "\n",
    "# Exibindo o gráfico\n",
    "plt.show()"
   ]
  },
  {
   "cell_type": "code",
   "execution_count": 30,
   "metadata": {},
   "outputs": [],
   "source": [
    "features_set = []\n",
    "for i, features in enumerate(selected_features):\n",
    "    features_set.append('|'.join(features))"
   ]
  },
  {
   "cell_type": "code",
   "execution_count": 31,
   "metadata": {},
   "outputs": [],
   "source": [
    "# Export results\n",
    "nome_arquivo = \"gc_fv_poly.csv\"\n",
    "\n",
    "with open(nome_arquivo, \"w\", newline=\"\") as arquivo_csv:\n",
    "    writer = csv.writer(arquivo_csv)\n",
    "\n",
    "    writer.writerow([\"features\", \"f1\", \"auc\", \"set\"])\n",
    "\n",
    "    for i in range(len(features)):\n",
    "        writer.writerow([features[i], f1[i], auc[i], features_set[i]])"
   ]
  },
  {
   "cell_type": "markdown",
   "metadata": {},
   "source": [
    "#### Oversample variation"
   ]
  },
  {
   "cell_type": "code",
   "execution_count": 6,
   "metadata": {},
   "outputs": [],
   "source": [
    "percentage_samples = np.arange(0.0, 1.1, 0.1)\n",
    "\n",
    "f1 = []\n",
    "auc = []\n",
    "\n",
    "for percentage in percentage_samples:\n",
    "    \n",
    "    if percentage == 0.0:\n",
    "        X_train_oversampled = X_train\n",
    "        y_train_oversampled = y_train\n",
    "    else:\n",
    "        smote = SMOTE(sampling_strategy=percentage, random_state=SEED)\n",
    "        X_train_oversampled, y_train_oversampled = smote.fit_resample(X_train, y_train)\n",
    "    \n",
    "    pipeline = Pipeline([\n",
    "        ('minmaxscaler', MinMaxScaler()),\n",
    "        #('feature_selection', SelectKBest(score_func=f_classif, k=2)),\n",
    "        ('polynomial_features', PolynomialFeatures(degree=2)),\n",
    "        ('classifier', DecisionTreeClassifier(random_state=SEED))\n",
    "    ])\n",
    "    \n",
    "    hyperparameters ={\n",
    "        'classifier__criterion': ['gini', 'entropy'],\n",
    "        'classifier__max_depth': list(range(1, 11)),\n",
    "        'classifier__min_samples_split': list(range(2, 21)),\n",
    "        'classifier__min_samples_leaf': list(range(1, 11)),\n",
    "        'classifier__max_features': ['sqrt', 'log2', None],\n",
    "    }\n",
    "    \n",
    "    randomized_search = RandomizedSearchCV(pipeline,\n",
    "                                       param_distributions=hyperparameters,\n",
    "                                       cv=KFold(n_splits=10),\n",
    "                                       random_state=SEED)\n",
    "    \n",
    "    randomized_search.fit(X_train_oversampled, y_train_oversampled)\n",
    "    \n",
    "    best_model = randomized_search.best_estimator_\n",
    "    \n",
    "    y_pred = best_model.predict(X_test)\n",
    "    \n",
    "    f1.append(f1_score(y_test, y_pred))\n",
    "    \n",
    "    auc.append(roc_auc_score(y_test, y_pred))"
   ]
  },
  {
   "cell_type": "code",
   "execution_count": 7,
   "metadata": {},
   "outputs": [
    {
     "data": {
      "image/png": "[encoded data removed]",
      "text/plain": [
       "<Figure size 640x480 with 1 Axes>"
      ]
     },
     "metadata": {},
     "output_type": "display_data"
    }
   ],
   "source": [
    "# Plotando o gráfico\n",
    "plt.plot(percentage_samples, f1, label='F1')\n",
    "plt.plot(percentage_samples, auc, label='AUC')\n",
    "\n",
    "# Configurações adicionais do gráfico\n",
    "plt.xlabel('Percenttage')\n",
    "plt.ylabel('Score')\n",
    "plt.title('Features Variation')\n",
    "plt.legend()\n",
    "\n",
    "# Exibindo o gráfico\n",
    "plt.show()"
   ]
  },
  {
   "cell_type": "code",
   "execution_count": 8,
   "metadata": {},
   "outputs": [],
   "source": [
    "# Export results\n",
    "nome_arquivo = \"gc_oversample.csv\"\n",
    "\n",
    "with open(nome_arquivo, \"w\", newline=\"\") as arquivo_csv:\n",
    "    writer = csv.writer(arquivo_csv)\n",
    "\n",
    "    writer.writerow([\"percentage\", \"f1\", \"auc\"])\n",
    "\n",
    "    for i in range(len(percentage_samples)):\n",
    "        writer.writerow([percentage_samples[i], f1[i], auc[i]])"
   ]
  },
  {
   "cell_type": "markdown",
   "metadata": {},
   "source": [
    "#### Undersample variation"
   ]
  },
  {
   "cell_type": "code",
   "execution_count": 9,
   "metadata": {
    "scrolled": true
   },
   "outputs": [
    {
     "name": "stderr",
     "output_type": "stream",
     "text": [
      "C:\\Users\\henri\\anaconda3\\lib\\site-packages\\sklearn\\feature_selection\\_univariate_selection.py:108: RuntimeWarning: invalid value encountered in divide\n",
      "  msb = ssbn / float(dfbn)\n",
      "C:\\Users\\henri\\anaconda3\\lib\\site-packages\\sklearn\\feature_selection\\_univariate_selection.py:108: RuntimeWarning: invalid value encountered in divide\n",
      "  msb = ssbn / float(dfbn)\n",
      "C:\\Users\\henri\\anaconda3\\lib\\site-packages\\sklearn\\feature_selection\\_univariate_selection.py:108: RuntimeWarning: invalid value encountered in divide\n",
      "  msb = ssbn / float(dfbn)\n",
      "C:\\Users\\henri\\anaconda3\\lib\\site-packages\\sklearn\\feature_selection\\_univariate_selection.py:108: RuntimeWarning: invalid value encountered in divide\n",
      "  msb = ssbn / float(dfbn)\n",
      "C:\\Users\\henri\\anaconda3\\lib\\site-packages\\sklearn\\feature_selection\\_univariate_selection.py:108: RuntimeWarning: invalid value encountered in divide\n",
      "  msb = ssbn / float(dfbn)\n",
      "C:\\Users\\henri\\anaconda3\\lib\\site-packages\\sklearn\\feature_selection\\_univariate_selection.py:108: RuntimeWarning: invalid value encountered in divide\n",
      "  msb = ssbn / float(dfbn)\n",
      "C:\\Users\\henri\\anaconda3\\lib\\site-packages\\sklearn\\feature_selection\\_univariate_selection.py:108: RuntimeWarning: invalid value encountered in divide\n",
      "  msb = ssbn / float(dfbn)\n",
      "C:\\Users\\henri\\anaconda3\\lib\\site-packages\\sklearn\\feature_selection\\_univariate_selection.py:108: RuntimeWarning: invalid value encountered in divide\n",
      "  msb = ssbn / float(dfbn)\n",
      "C:\\Users\\henri\\anaconda3\\lib\\site-packages\\sklearn\\feature_selection\\_univariate_selection.py:108: RuntimeWarning: invalid value encountered in divide\n",
      "  msb = ssbn / float(dfbn)\n",
      "C:\\Users\\henri\\anaconda3\\lib\\site-packages\\sklearn\\feature_selection\\_univariate_selection.py:108: RuntimeWarning: invalid value encountered in divide\n",
      "  msb = ssbn / float(dfbn)\n"
     ]
    }
   ],
   "source": [
    "percentage_samples = np.arange(0.0, 1.1, 0.1)\n",
    "\n",
    "f1 = []\n",
    "auc = []\n",
    "\n",
    "for percentage in percentage_samples:\n",
    "    \n",
    "    if percentage == 0.0:\n",
    "        X_train_oversampled = X_train\n",
    "        y_train_oversampled = y_train\n",
    "    else:\n",
    "        undersample = RandomUnderSampler(sampling_strategy=percentage, random_state=SEED)\n",
    "        X_train_oversampled, y_train_oversampled = undersample.fit_resample(X_train, y_train)\n",
    "    \n",
    "    pipeline = Pipeline([\n",
    "        ('minmaxscaler', MinMaxScaler()),\n",
    "        ('feature_selection', SelectKBest(score_func=f_classif, k=2)),\n",
    "        ('polynomial_features', PolynomialFeatures(degree=2)),\n",
    "        ('classifier', DecisionTreeClassifier(random_state=SEED))\n",
    "    ])\n",
    "    \n",
    "    hyperparameters ={\n",
    "        'classifier__criterion': ['gini', 'entropy'],\n",
    "        'classifier__max_depth': list(range(1, 11)),\n",
    "        'classifier__min_samples_split': list(range(2, 21)),\n",
    "        'classifier__min_samples_leaf': list(range(1, 11)),\n",
    "        'classifier__max_features': ['sqrt', 'log2', None],\n",
    "    }\n",
    "    \n",
    "    randomized_search = RandomizedSearchCV(pipeline,\n",
    "                                       param_distributions=hyperparameters,\n",
    "                                       cv=KFold(n_splits=10),\n",
    "                                       random_state=SEED)\n",
    "    \n",
    "    randomized_search.fit(X_train_oversampled, y_train_oversampled)\n",
    "    \n",
    "    best_model = randomized_search.best_estimator_\n",
    "    \n",
    "    y_pred = best_model.predict(X_test)\n",
    "    \n",
    "    f1.append(f1_score(y_test, y_pred))\n",
    "    \n",
    "    auc.append(roc_auc_score(y_test, y_pred))"
   ]
  },
  {
   "cell_type": "code",
   "execution_count": 10,
   "metadata": {},
   "outputs": [
    {
     "data": {
      "image/png": "[encoded data removed]",
      "text/plain": [
       "<Figure size 640x480 with 1 Axes>"
      ]
     },
     "metadata": {},
     "output_type": "display_data"
    }
   ],
   "source": [
    "indices = range(len(f1))\n",
    "\n",
    "# Plotando o gráfico\n",
    "plt.plot(indices, f1, label='F1')\n",
    "plt.plot(indices, auc, label='AUC')\n",
    "\n",
    "# Configurações adicionais do gráfico\n",
    "plt.xlabel('Index')\n",
    "plt.ylabel('Score')\n",
    "plt.title('Features Variation')\n",
    "plt.legend()\n",
    "\n",
    "# Exibindo o gráfico\n",
    "plt.show()"
   ]
  },
  {
   "cell_type": "code",
   "execution_count": 11,
   "metadata": {},
   "outputs": [],
   "source": [
    "# Export results\n",
    "nome_arquivo = \"gc_undersample.csv\"\n",
    "\n",
    "with open(nome_arquivo, \"w\", newline=\"\") as arquivo_csv:\n",
    "    writer = csv.writer(arquivo_csv)\n",
    "\n",
    "    writer.writerow([\"percentage\", \"f1\", \"auc\"])\n",
    "\n",
    "    for i in range(len(percentage_samples)):\n",
    "        writer.writerow([percentage_samples[i], f1[i], auc[i]])"
   ]
  },
  {
   "cell_type": "markdown",
   "metadata": {},
   "source": [
    "## Refused Bequest Evaluation"
   ]
  },
  {
   "cell_type": "code",
   "execution_count": 3,
   "metadata": {},
   "outputs": [
    {
     "data": {
      "text/html": [
       "<div>\n",
       "<style scoped>\n",
       "    .dataframe tbody tr th:only-of-type {\n",
       "        vertical-align: middle;\n",
       "    }\n",
       "\n",
       "    .dataframe tbody tr th {\n",
       "        vertical-align: top;\n",
       "    }\n",
       "\n",
       "    .dataframe thead th {\n",
       "        text-align: right;\n",
       "    }\n",
       "</style>\n",
       "<table border=\"1\" class=\"dataframe\">\n",
       "  <thead>\n",
       "    <tr style=\"text-align: right;\">\n",
       "      <th></th>\n",
       "      <th>dit</th>\n",
       "      <th>fanin</th>\n",
       "      <th>fanout</th>\n",
       "      <th>lcc</th>\n",
       "      <th>lcom*</th>\n",
       "      <th>loc</th>\n",
       "      <th>noc</th>\n",
       "      <th>rfc</th>\n",
       "      <th>icq</th>\n",
       "      <th>nof</th>\n",
       "      <th>nom</th>\n",
       "      <th>wmc</th>\n",
       "      <th>rb</th>\n",
       "    </tr>\n",
       "  </thead>\n",
       "  <tbody>\n",
       "    <tr>\n",
       "      <th>0</th>\n",
       "      <td>4</td>\n",
       "      <td>1</td>\n",
       "      <td>6</td>\n",
       "      <td>0.0</td>\n",
       "      <td>0.592593</td>\n",
       "      <td>39</td>\n",
       "      <td>0</td>\n",
       "      <td>12</td>\n",
       "      <td>0</td>\n",
       "      <td>3</td>\n",
       "      <td>9</td>\n",
       "      <td>10</td>\n",
       "      <td>0</td>\n",
       "    </tr>\n",
       "    <tr>\n",
       "      <th>1</th>\n",
       "      <td>4</td>\n",
       "      <td>2</td>\n",
       "      <td>7</td>\n",
       "      <td>0.0</td>\n",
       "      <td>0.000000</td>\n",
       "      <td>18</td>\n",
       "      <td>0</td>\n",
       "      <td>6</td>\n",
       "      <td>0</td>\n",
       "      <td>0</td>\n",
       "      <td>4</td>\n",
       "      <td>6</td>\n",
       "      <td>0</td>\n",
       "    </tr>\n",
       "    <tr>\n",
       "      <th>2</th>\n",
       "      <td>1</td>\n",
       "      <td>0</td>\n",
       "      <td>0</td>\n",
       "      <td>0.0</td>\n",
       "      <td>1.000000</td>\n",
       "      <td>56</td>\n",
       "      <td>0</td>\n",
       "      <td>0</td>\n",
       "      <td>3</td>\n",
       "      <td>4</td>\n",
       "      <td>4</td>\n",
       "      <td>4</td>\n",
       "      <td>0</td>\n",
       "    </tr>\n",
       "    <tr>\n",
       "      <th>3</th>\n",
       "      <td>1</td>\n",
       "      <td>1</td>\n",
       "      <td>0</td>\n",
       "      <td>0.0</td>\n",
       "      <td>0.000000</td>\n",
       "      <td>4</td>\n",
       "      <td>0</td>\n",
       "      <td>0</td>\n",
       "      <td>0</td>\n",
       "      <td>0</td>\n",
       "      <td>2</td>\n",
       "      <td>2</td>\n",
       "      <td>0</td>\n",
       "    </tr>\n",
       "    <tr>\n",
       "      <th>4</th>\n",
       "      <td>3</td>\n",
       "      <td>3</td>\n",
       "      <td>5</td>\n",
       "      <td>0.0</td>\n",
       "      <td>0.000000</td>\n",
       "      <td>16</td>\n",
       "      <td>0</td>\n",
       "      <td>7</td>\n",
       "      <td>0</td>\n",
       "      <td>0</td>\n",
       "      <td>4</td>\n",
       "      <td>4</td>\n",
       "      <td>0</td>\n",
       "    </tr>\n",
       "  </tbody>\n",
       "</table>\n",
       "</div>"
      ],
      "text/plain": [
       "   dit  fanin  fanout  lcc     lcom*  loc  noc  rfc  icq  nof  nom  wmc  rb\n",
       "0    4      1       6  0.0  0.592593   39    0   12    0    3    9   10   0\n",
       "1    4      2       7  0.0  0.000000   18    0    6    0    0    4    6   0\n",
       "2    1      0       0  0.0  1.000000   56    0    0    3    4    4    4   0\n",
       "3    1      1       0  0.0  0.000000    4    0    0    0    0    2    2   0\n",
       "4    3      3       5  0.0  0.000000   16    0    7    0    0    4    4   0"
      ]
     },
     "execution_count": 3,
     "metadata": {},
     "output_type": "execute_result"
    }
   ],
   "source": [
    "data = pd.read_csv('rb.csv', dtype={col: np.float32 for col in ['lcc', 'lcom*']})\n",
    "data.dropna(inplace=True)\n",
    "data.head()"
   ]
  },
  {
   "cell_type": "code",
   "execution_count": 4,
   "metadata": {},
   "outputs": [],
   "source": [
    "X = data.drop(['rb'], axis=1)\n",
    "y = data.rb"
   ]
  },
  {
   "cell_type": "code",
   "execution_count": 5,
   "metadata": {},
   "outputs": [],
   "source": [
    "X_train, X_test, y_train, y_test = train_test_split(X, y, train_size=0.8, random_state=SEED)"
   ]
  },
  {
   "cell_type": "markdown",
   "metadata": {},
   "source": [
    "### Decision Tree Evaluation"
   ]
  },
  {
   "cell_type": "markdown",
   "metadata": {},
   "source": [
    "#### Original features variation"
   ]
  },
  {
   "cell_type": "code",
   "execution_count": 6,
   "metadata": {},
   "outputs": [],
   "source": [
    "feature_names = ['dit','fanin','fanout','lcc','lcom*','loc','noc','rfc','icq','nof','nom','wmc']\n",
    "\n",
    "features = np.arange(1, 13, 1)\n",
    "\n",
    "f1 = []\n",
    "auc = []\n",
    "selected_features = []\n",
    "\n",
    "for num_features in features:\n",
    "    \n",
    "    pipeline = Pipeline([\n",
    "        ('minmaxscaler', MinMaxScaler()),\n",
    "        ('feature_selection', SelectKBest(score_func=f_classif, k=num_features)),\n",
    "        ('classifier', DecisionTreeClassifier(random_state=SEED))\n",
    "    ])\n",
    "    \n",
    "    hyperparameters ={\n",
    "        'classifier__criterion': ['gini', 'entropy'],\n",
    "        'classifier__max_depth': list(range(1, 11)),\n",
    "        'classifier__min_samples_split': list(range(2, 21)),\n",
    "        'classifier__min_samples_leaf': list(range(1, 11)),\n",
    "        'classifier__max_features': ['sqrt', 'log2', None],\n",
    "    }\n",
    "    \n",
    "    randomized_search = RandomizedSearchCV(pipeline,\n",
    "                                       param_distributions=hyperparameters,\n",
    "                                       cv=KFold(n_splits=10),\n",
    "                                       random_state=SEED)\n",
    "    \n",
    "    randomized_search.fit(X_train, y_train)\n",
    "    \n",
    "    best_model = randomized_search.best_estimator_\n",
    "    \n",
    "    selected = best_model.named_steps['feature_selection'].get_support()\n",
    "    \n",
    "    selected_feature_names = np.array(feature_names)[selected]\n",
    "    \n",
    "    selected_features.append(selected_feature_names)\n",
    "    \n",
    "    y_pred = best_model.predict(X_test)\n",
    "    \n",
    "    f1.append(f1_score(y_test, y_pred))\n",
    "    \n",
    "    auc.append(roc_auc_score(y_test, y_pred))"
   ]
  },
  {
   "cell_type": "code",
   "execution_count": 7,
   "metadata": {},
   "outputs": [
    {
     "data": {
      "image/png": "[encoded data removed]",
      "text/plain": [
       "<Figure size 640x480 with 1 Axes>"
      ]
     },
     "metadata": {},
     "output_type": "display_data"
    }
   ],
   "source": [
    "# Plotando o gráfico\n",
    "plt.plot(features, f1, label='F1')\n",
    "plt.plot(features, auc, label='AUC')\n",
    "\n",
    "# Configurações adicionais do gráfico\n",
    "plt.xlabel('Features')\n",
    "plt.ylabel('Score')\n",
    "plt.title('Features Variation')\n",
    "plt.legend()\n",
    "\n",
    "# Exibindo o gráfico\n",
    "plt.show()"
   ]
  },
  {
   "cell_type": "code",
   "execution_count": 8,
   "metadata": {},
   "outputs": [],
   "source": [
    "features_set = []\n",
    "for i, features in enumerate(selected_features):\n",
    "    features_set.append('|'.join(features))"
   ]
  },
  {
   "cell_type": "code",
   "execution_count": 10,
   "metadata": {},
   "outputs": [],
   "source": [
    "# Export results\n",
    "nome_arquivo = \"rb_fv.csv\"\n",
    "\n",
    "with open(nome_arquivo, \"w\", newline=\"\") as arquivo_csv:\n",
    "    writer = csv.writer(arquivo_csv)\n",
    "\n",
    "    writer.writerow([\"features\", \"f1\", \"auc\", \"set\"])\n",
    "\n",
    "    for i in range(len(features)):\n",
    "        writer.writerow([features[i], f1[i], auc[i], features_set[i]])"
   ]
  },
  {
   "cell_type": "markdown",
   "metadata": {},
   "source": [
    "#### Polynomial features variation"
   ]
  },
  {
   "cell_type": "code",
   "execution_count": 11,
   "metadata": {},
   "outputs": [],
   "source": [
    "feature_names = ['dit','fanin','fanout','lcc','lcom*','loc','noc','rfc','icq','nof','nom','wmc']\n",
    "\n",
    "features = np.arange(1, 13, 1)\n",
    "\n",
    "f1 = []\n",
    "auc = []\n",
    "selected_features = []\n",
    "\n",
    "for num_features in features:\n",
    "    \n",
    "    pipeline = Pipeline([\n",
    "        ('minmaxscaler', MinMaxScaler()),\n",
    "        ('feature_selection', SelectKBest(score_func=f_classif, k=num_features)),\n",
    "        ('polynomial_features', PolynomialFeatures(degree=2)),\n",
    "        ('classifier', DecisionTreeClassifier(random_state=SEED))\n",
    "    ])\n",
    "    \n",
    "    hyperparameters ={\n",
    "        'classifier__criterion': ['gini', 'entropy'],\n",
    "        'classifier__max_depth': list(range(1, 11)),\n",
    "        'classifier__min_samples_split': list(range(2, 21)),\n",
    "        'classifier__min_samples_leaf': list(range(1, 11)),\n",
    "        'classifier__max_features': ['sqrt', 'log2', None],\n",
    "    }\n",
    "    \n",
    "    randomized_search = RandomizedSearchCV(pipeline,\n",
    "                                       param_distributions=hyperparameters,\n",
    "                                       cv=KFold(n_splits=10),\n",
    "                                       random_state=SEED)\n",
    "    \n",
    "    randomized_search.fit(X_train, y_train)\n",
    "    \n",
    "    best_model = randomized_search.best_estimator_\n",
    "    \n",
    "    selected = best_model.named_steps['feature_selection'].get_support()\n",
    "    \n",
    "    selected_feature_names = np.array(feature_names)[selected]\n",
    "    \n",
    "    selected_features.append(selected_feature_names)\n",
    "    \n",
    "    y_pred = best_model.predict(X_test)\n",
    "    \n",
    "    f1.append(f1_score(y_test, y_pred))\n",
    "    \n",
    "    auc.append(roc_auc_score(y_test, y_pred))"
   ]
  },
  {
   "cell_type": "code",
   "execution_count": 12,
   "metadata": {},
   "outputs": [
    {
     "data": {
      "image/png": "[encoded data removed]",
      "text/plain": [
       "<Figure size 640x480 with 1 Axes>"
      ]
     },
     "metadata": {},
     "output_type": "display_data"
    }
   ],
   "source": [
    "# Plotando o gráfico\n",
    "plt.plot(features, f1, label='F1')\n",
    "plt.plot(features, auc, label='AUC')\n",
    "\n",
    "# Configurações adicionais do gráfico\n",
    "plt.xlabel('Features')\n",
    "plt.ylabel('Score')\n",
    "plt.title('Features Variation')\n",
    "plt.legend()\n",
    "\n",
    "# Exibindo o gráfico\n",
    "plt.show()"
   ]
  },
  {
   "cell_type": "code",
   "execution_count": 13,
   "metadata": {},
   "outputs": [],
   "source": [
    "features_set = []\n",
    "for i, features in enumerate(selected_features):\n",
    "    features_set.append('|'.join(features))"
   ]
  },
  {
   "cell_type": "code",
   "execution_count": 14,
   "metadata": {},
   "outputs": [],
   "source": [
    "# Export results\n",
    "nome_arquivo = \"rb_fv_poly.csv\"\n",
    "\n",
    "with open(nome_arquivo, \"w\", newline=\"\") as arquivo_csv:\n",
    "    writer = csv.writer(arquivo_csv)\n",
    "\n",
    "    writer.writerow([\"features\", \"f1\", \"auc\", \"set\"])\n",
    "\n",
    "    for i in range(len(features)):\n",
    "        writer.writerow([features[i], f1[i], auc[i], features_set[i]])"
   ]
  },
  {
   "cell_type": "markdown",
   "metadata": {},
   "source": [
    "#### Oversample variation"
   ]
  },
  {
   "cell_type": "code",
   "execution_count": 15,
   "metadata": {},
   "outputs": [],
   "source": [
    "percentage_samples = np.arange(0.0, 1.1, 0.1)\n",
    "\n",
    "f1 = []\n",
    "auc = []\n",
    "\n",
    "for percentage in percentage_samples:\n",
    "    \n",
    "    if percentage == 0.0:\n",
    "        X_train_oversampled = X_train\n",
    "        y_train_oversampled = y_train\n",
    "    else:\n",
    "        smote = SMOTE(sampling_strategy=percentage, random_state=SEED)\n",
    "        X_train_oversampled, y_train_oversampled = smote.fit_resample(X_train, y_train)\n",
    "    \n",
    "    pipeline = Pipeline([\n",
    "        ('minmaxscaler', MinMaxScaler()),\n",
    "        #('feature_selection', SelectKBest(score_func=f_classif, k=2)),\n",
    "        ('polynomial_features', PolynomialFeatures(degree=2)),\n",
    "        ('classifier', DecisionTreeClassifier(random_state=SEED))\n",
    "    ])\n",
    "    \n",
    "    hyperparameters ={\n",
    "        'classifier__criterion': ['gini', 'entropy'],\n",
    "        'classifier__max_depth': list(range(1, 11)),\n",
    "        'classifier__min_samples_split': list(range(2, 21)),\n",
    "        'classifier__min_samples_leaf': list(range(1, 11)),\n",
    "        'classifier__max_features': ['sqrt', 'log2', None],\n",
    "    }\n",
    "    \n",
    "    randomized_search = RandomizedSearchCV(pipeline,\n",
    "                                       param_distributions=hyperparameters,\n",
    "                                       cv=KFold(n_splits=10),\n",
    "                                       random_state=SEED)\n",
    "    \n",
    "    randomized_search.fit(X_train_oversampled, y_train_oversampled)\n",
    "    \n",
    "    best_model = randomized_search.best_estimator_\n",
    "    \n",
    "    y_pred = best_model.predict(X_test)\n",
    "    \n",
    "    f1.append(f1_score(y_test, y_pred))\n",
    "    \n",
    "    auc.append(roc_auc_score(y_test, y_pred))"
   ]
  },
  {
   "cell_type": "code",
   "execution_count": 16,
   "metadata": {
    "scrolled": false
   },
   "outputs": [
    {
     "data": {
      "image/png": "[encoded data removed]",
      "text/plain": [
       "<Figure size 640x480 with 1 Axes>"
      ]
     },
     "metadata": {},
     "output_type": "display_data"
    }
   ],
   "source": [
    "# Plotando o gráfico\n",
    "plt.plot(percentage_samples, f1, label='F1')\n",
    "plt.plot(percentage_samples, auc, label='AUC')\n",
    "\n",
    "# Configurações adicionais do gráfico\n",
    "plt.xlabel('Percenttage')\n",
    "plt.ylabel('Score')\n",
    "plt.title('Features Variation')\n",
    "plt.legend()\n",
    "\n",
    "# Exibindo o gráfico\n",
    "plt.show()"
   ]
  },
  {
   "cell_type": "code",
   "execution_count": 17,
   "metadata": {},
   "outputs": [],
   "source": [
    "# Export results\n",
    "nome_arquivo = \"rb_oversample.csv\"\n",
    "\n",
    "with open(nome_arquivo, \"w\", newline=\"\") as arquivo_csv:\n",
    "    writer = csv.writer(arquivo_csv)\n",
    "\n",
    "    writer.writerow([\"percentage\", \"f1\", \"auc\"])\n",
    "\n",
    "    for i in range(len(percentage_samples)):\n",
    "        writer.writerow([percentage_samples[i], f1[i], auc[i]])"
   ]
  },
  {
   "cell_type": "markdown",
   "metadata": {},
   "source": [
    "#### Undersample variation"
   ]
  },
  {
   "cell_type": "code",
   "execution_count": 19,
   "metadata": {},
   "outputs": [],
   "source": [
    "percentage_samples = np.arange(0.0, 1.1, 0.1)\n",
    "\n",
    "f1 = []\n",
    "auc = []\n",
    "\n",
    "for percentage in percentage_samples:\n",
    "    \n",
    "    if percentage == 0.0:\n",
    "        X_train_oversampled = X_train\n",
    "        y_train_oversampled = y_train\n",
    "    else:\n",
    "        undersample = RandomUnderSampler(sampling_strategy=percentage, random_state=SEED)\n",
    "        X_train_oversampled, y_train_oversampled = undersample.fit_resample(X_train, y_train)\n",
    "    \n",
    "    pipeline = Pipeline([\n",
    "        ('minmaxscaler', MinMaxScaler()),\n",
    "        ('polynomial_features', PolynomialFeatures(degree=2)),\n",
    "        ('classifier', DecisionTreeClassifier(random_state=SEED))\n",
    "    ])\n",
    "    \n",
    "    hyperparameters ={\n",
    "        'classifier__criterion': ['gini', 'entropy'],\n",
    "        'classifier__max_depth': list(range(1, 11)),\n",
    "        'classifier__min_samples_split': list(range(2, 21)),\n",
    "        'classifier__min_samples_leaf': list(range(1, 11)),\n",
    "        'classifier__max_features': ['sqrt', 'log2', None],\n",
    "    }\n",
    "    \n",
    "    randomized_search = RandomizedSearchCV(pipeline,\n",
    "                                       param_distributions=hyperparameters,\n",
    "                                       cv=KFold(n_splits=10),\n",
    "                                       random_state=SEED)\n",
    "    \n",
    "    randomized_search.fit(X_train_oversampled, y_train_oversampled)\n",
    "    \n",
    "    best_model = randomized_search.best_estimator_\n",
    "    \n",
    "    y_pred = best_model.predict(X_test)\n",
    "    \n",
    "    f1.append(f1_score(y_test, y_pred))\n",
    "    \n",
    "    auc.append(roc_auc_score(y_test, y_pred))"
   ]
  },
  {
   "cell_type": "code",
   "execution_count": 20,
   "metadata": {},
   "outputs": [
    {
     "data": {
      "image/png": "[encoded data removed]",
      "text/plain": [
       "<Figure size 640x480 with 1 Axes>"
      ]
     },
     "metadata": {},
     "output_type": "display_data"
    }
   ],
   "source": [
    "# Plotando o gráfico\n",
    "plt.plot(percentage_samples, f1, label='F1')\n",
    "plt.plot(percentage_samples, auc, label='AUC')\n",
    "\n",
    "# Configurações adicionais do gráfico\n",
    "plt.xlabel('Percenttage')\n",
    "plt.ylabel('Score')\n",
    "plt.title('Features Variation')\n",
    "plt.legend()\n",
    "\n",
    "# Exibindo o gráfico\n",
    "plt.show()"
   ]
  },
  {
   "cell_type": "code",
   "execution_count": 21,
   "metadata": {},
   "outputs": [],
   "source": [
    "# Export results\n",
    "nome_arquivo = \"rb_undersample.csv\"\n",
    "\n",
    "with open(nome_arquivo, \"w\", newline=\"\") as arquivo_csv:\n",
    "    writer = csv.writer(arquivo_csv)\n",
    "\n",
    "    writer.writerow([\"percentage\", \"f1\", \"auc\"])\n",
    "\n",
    "    for i in range(len(percentage_samples)):\n",
    "        writer.writerow([percentage_samples[i], f1[i], auc[i]])"
   ]
  },
  {
   "cell_type": "markdown",
   "metadata": {},
   "source": [
    "## Long Method Evaluation"
   ]
  },
  {
   "cell_type": "markdown",
   "metadata": {},
   "source": [
    "### Gradient Boosting Machine"
   ]
  },
  {
   "cell_type": "code",
   "execution_count": 22,
   "metadata": {},
   "outputs": [
    {
     "data": {
      "text/html": [
       "<div>\n",
       "<style scoped>\n",
       "    .dataframe tbody tr th:only-of-type {\n",
       "        vertical-align: middle;\n",
       "    }\n",
       "\n",
       "    .dataframe tbody tr th {\n",
       "        vertical-align: top;\n",
       "    }\n",
       "\n",
       "    .dataframe thead th {\n",
       "        text-align: right;\n",
       "    }\n",
       "</style>\n",
       "<table border=\"1\" class=\"dataframe\">\n",
       "  <thead>\n",
       "    <tr style=\"text-align: right;\">\n",
       "      <th></th>\n",
       "      <th>fanin</th>\n",
       "      <th>fanout</th>\n",
       "      <th>wmc</th>\n",
       "      <th>loc</th>\n",
       "      <th>rq</th>\n",
       "      <th>vq</th>\n",
       "      <th>pq</th>\n",
       "      <th>lq</th>\n",
       "      <th>cq</th>\n",
       "      <th>icq</th>\n",
       "      <th>lm</th>\n",
       "    </tr>\n",
       "  </thead>\n",
       "  <tbody>\n",
       "    <tr>\n",
       "      <th>0</th>\n",
       "      <td>0</td>\n",
       "      <td>1</td>\n",
       "      <td>1</td>\n",
       "      <td>3</td>\n",
       "      <td>0</td>\n",
       "      <td>0</td>\n",
       "      <td>1</td>\n",
       "      <td>0</td>\n",
       "      <td>0</td>\n",
       "      <td>0</td>\n",
       "      <td>0</td>\n",
       "    </tr>\n",
       "    <tr>\n",
       "      <th>1</th>\n",
       "      <td>0</td>\n",
       "      <td>1</td>\n",
       "      <td>1</td>\n",
       "      <td>3</td>\n",
       "      <td>0</td>\n",
       "      <td>0</td>\n",
       "      <td>1</td>\n",
       "      <td>0</td>\n",
       "      <td>0</td>\n",
       "      <td>0</td>\n",
       "      <td>0</td>\n",
       "    </tr>\n",
       "    <tr>\n",
       "      <th>2</th>\n",
       "      <td>0</td>\n",
       "      <td>1</td>\n",
       "      <td>1</td>\n",
       "      <td>3</td>\n",
       "      <td>0</td>\n",
       "      <td>0</td>\n",
       "      <td>1</td>\n",
       "      <td>0</td>\n",
       "      <td>0</td>\n",
       "      <td>0</td>\n",
       "      <td>0</td>\n",
       "    </tr>\n",
       "    <tr>\n",
       "      <th>3</th>\n",
       "      <td>0</td>\n",
       "      <td>1</td>\n",
       "      <td>2</td>\n",
       "      <td>8</td>\n",
       "      <td>0</td>\n",
       "      <td>0</td>\n",
       "      <td>1</td>\n",
       "      <td>0</td>\n",
       "      <td>0</td>\n",
       "      <td>0</td>\n",
       "      <td>0</td>\n",
       "    </tr>\n",
       "    <tr>\n",
       "      <th>4</th>\n",
       "      <td>0</td>\n",
       "      <td>0</td>\n",
       "      <td>1</td>\n",
       "      <td>3</td>\n",
       "      <td>1</td>\n",
       "      <td>0</td>\n",
       "      <td>0</td>\n",
       "      <td>0</td>\n",
       "      <td>0</td>\n",
       "      <td>0</td>\n",
       "      <td>0</td>\n",
       "    </tr>\n",
       "  </tbody>\n",
       "</table>\n",
       "</div>"
      ],
      "text/plain": [
       "   fanin  fanout  wmc  loc  rq  vq  pq  lq  cq  icq  lm\n",
       "0      0       1    1    3   0   0   1   0   0    0   0\n",
       "1      0       1    1    3   0   0   1   0   0    0   0\n",
       "2      0       1    1    3   0   0   1   0   0    0   0\n",
       "3      0       1    2    8   0   0   1   0   0    0   0\n",
       "4      0       0    1    3   1   0   0   0   0    0   0"
      ]
     },
     "execution_count": 22,
     "metadata": {},
     "output_type": "execute_result"
    }
   ],
   "source": [
    "data = pd.read_csv('lm.csv')\n",
    "data.dropna(inplace=True)\n",
    "data.head()"
   ]
  },
  {
   "cell_type": "code",
   "execution_count": 23,
   "metadata": {},
   "outputs": [],
   "source": [
    "X = data.drop(['lm'], axis=1)\n",
    "y = data.lm"
   ]
  },
  {
   "cell_type": "code",
   "execution_count": 24,
   "metadata": {},
   "outputs": [],
   "source": [
    "X_train, X_test, y_train, y_test = train_test_split(X, y, train_size=0.8, random_state=SEED)"
   ]
  },
  {
   "cell_type": "code",
   "execution_count": 25,
   "metadata": {},
   "outputs": [],
   "source": [
    "feature_names = ['fanin','fanout','wmc','loc','rq','vq','pq','lq','cq','icq']\n",
    "\n",
    "features = np.arange(1, 11, 1)\n",
    "\n",
    "f1 = []\n",
    "auc = []\n",
    "selected_features = []\n",
    "\n",
    "for num_features in features:\n",
    "    \n",
    "    pipeline = Pipeline([\n",
    "        ('minmaxscaler', MinMaxScaler()),\n",
    "        ('feature_selection', SelectKBest(score_func=f_classif, k=num_features)),\n",
    "        ('classifier', GradientBoostingClassifier(random_state=SEED))\n",
    "    ])\n",
    "    \n",
    "    hyperparameters ={\n",
    "        'classifier__n_estimators': [10, 100, 1000],\n",
    "        'classifier__learning_rate': [0.001, 0.01, 0.1],\n",
    "        'classifier__subsample': [0.5, 0.7, 1.0],\n",
    "        'classifier__max_depth': [3, 7, 9],\n",
    "    }\n",
    "    \n",
    "    randomized_search = RandomizedSearchCV(pipeline,\n",
    "                                       param_distributions=hyperparameters,\n",
    "                                       cv=KFold(n_splits=10),\n",
    "                                       random_state=SEED)\n",
    "    \n",
    "    randomized_search.fit(X_train, y_train)\n",
    "    \n",
    "    best_model = randomized_search.best_estimator_\n",
    "    \n",
    "    selected = best_model.named_steps['feature_selection'].get_support()\n",
    "    \n",
    "    selected_feature_names = np.array(feature_names)[selected]\n",
    "    \n",
    "    selected_features.append(selected_feature_names)\n",
    "    \n",
    "    y_pred = best_model.predict(X_test)\n",
    "    \n",
    "    f1.append(f1_score(y_test, y_pred))\n",
    "    \n",
    "    auc.append(roc_auc_score(y_test, y_pred))"
   ]
  },
  {
   "cell_type": "code",
   "execution_count": 26,
   "metadata": {},
   "outputs": [
    {
     "data": {
      "image/png": "[encoded data removed]",
      "text/plain": [
       "<Figure size 640x480 with 1 Axes>"
      ]
     },
     "metadata": {},
     "output_type": "display_data"
    }
   ],
   "source": [
    "indices = range(len(f1))\n",
    "\n",
    "# Plotando o gráfico\n",
    "plt.plot(indices, f1, label='F1')\n",
    "plt.plot(indices, auc, label='AUC')\n",
    "\n",
    "# Configurações adicionais do gráfico\n",
    "plt.xlabel('Index')\n",
    "plt.ylabel('Score')\n",
    "plt.title('Features Variation')\n",
    "plt.legend()\n",
    "\n",
    "# Exibindo o gráfico\n",
    "plt.show()"
   ]
  },
  {
   "cell_type": "code",
   "execution_count": 27,
   "metadata": {},
   "outputs": [],
   "source": [
    "# Export results\n",
    "nome_arquivo = \"lm_fv.csv\"\n",
    "\n",
    "with open(nome_arquivo, \"w\", newline=\"\") as arquivo_csv:\n",
    "    writer = csv.writer(arquivo_csv)\n",
    "\n",
    "    writer.writerow([\"features\", \"f1\", \"auc\", \"set\"])\n",
    "\n",
    "    for i in range(len(features)):\n",
    "        writer.writerow([features[i], f1[i], auc[i], features_set[i]])"
   ]
  },
  {
   "cell_type": "code",
   "execution_count": 28,
   "metadata": {},
   "outputs": [],
   "source": [
    "feature_names = ['fanin','fanout','wmc','loc','rq','vq','pq','lq','cq','icq']\n",
    "\n",
    "features = np.arange(1, 11, 1)\n",
    "\n",
    "f1 = []\n",
    "auc = []\n",
    "selected_features = []\n",
    "\n",
    "for num_features in features:\n",
    "    \n",
    "    pipeline = Pipeline([\n",
    "        ('minmaxscaler', MinMaxScaler()),\n",
    "        ('feature_selection', SelectKBest(score_func=f_classif, k=num_features)),\n",
    "        ('polynomial_features', PolynomialFeatures(degree=2)),\n",
    "        ('classifier', GradientBoostingClassifier(random_state=SEED))\n",
    "    ])\n",
    "    \n",
    "    hyperparameters ={\n",
    "        'classifier__n_estimators': [10, 100, 1000],\n",
    "        'classifier__learning_rate': [0.001, 0.01, 0.1],\n",
    "        'classifier__subsample': [0.5, 0.7, 1.0],\n",
    "        'classifier__max_depth': [3, 7, 9],\n",
    "    }\n",
    "    \n",
    "    randomized_search = RandomizedSearchCV(pipeline,\n",
    "                                       param_distributions=hyperparameters,\n",
    "                                       cv=KFold(n_splits=10),\n",
    "                                       random_state=SEED)\n",
    "    \n",
    "    randomized_search.fit(X_train, y_train)\n",
    "    \n",
    "    best_model = randomized_search.best_estimator_\n",
    "    \n",
    "    selected = best_model.named_steps['feature_selection'].get_support()\n",
    "    \n",
    "    selected_feature_names = np.array(feature_names)[selected]\n",
    "    \n",
    "    selected_features.append(selected_feature_names)\n",
    "    \n",
    "    y_pred = best_model.predict(X_test)\n",
    "    \n",
    "    f1.append(f1_score(y_test, y_pred))\n",
    "    \n",
    "    auc.append(roc_auc_score(y_test, y_pred))"
   ]
  },
  {
   "cell_type": "code",
   "execution_count": 29,
   "metadata": {},
   "outputs": [
    {
     "data": {
      "image/png": "[encoded data removed]",
      "text/plain": [
       "<Figure size 640x480 with 1 Axes>"
      ]
     },
     "metadata": {},
     "output_type": "display_data"
    }
   ],
   "source": [
    "indices = range(len(f1))\n",
    "\n",
    "# Plotando o gráfico\n",
    "plt.plot(indices, f1, label='F1')\n",
    "plt.plot(indices, auc, label='AUC')\n",
    "\n",
    "# Configurações adicionais do gráfico\n",
    "plt.xlabel('Index')\n",
    "plt.ylabel('Score')\n",
    "plt.title('Features Variation')\n",
    "plt.legend()\n",
    "\n",
    "# Exibindo o gráfico\n",
    "plt.show()"
   ]
  },
  {
   "cell_type": "code",
   "execution_count": 30,
   "metadata": {},
   "outputs": [],
   "source": [
    "# Export results\n",
    "nome_arquivo = \"lm_fv_poly.csv\"\n",
    "\n",
    "with open(nome_arquivo, \"w\", newline=\"\") as arquivo_csv:\n",
    "    writer = csv.writer(arquivo_csv)\n",
    "\n",
    "    writer.writerow([\"features\", \"f1\", \"auc\", \"set\"])\n",
    "\n",
    "    for i in range(len(features)):\n",
    "        writer.writerow([features[i], f1[i], auc[i], features_set[i]])"
   ]
  },
  {
   "cell_type": "code",
   "execution_count": null,
   "metadata": {},
   "outputs": [],
   "source": []
  }
 ],
 "metadata": {
  "kernelspec": {
   "display_name": "Python 3 (ipykernel)",
   "language": "python",
   "name": "python3"
  },
  "language_info": {
   "codemirror_mode": {
    "name": "ipython",
    "version": 3
   },
   "file_extension": ".py",
   "mimetype": "text/x-python",
   "name": "python",
   "nbconvert_exporter": "python",
   "pygments_lexer": "ipython3",
   "version": "3.10.9"
  }
 },
 "nbformat": 4,
 "nbformat_minor": 4
}
